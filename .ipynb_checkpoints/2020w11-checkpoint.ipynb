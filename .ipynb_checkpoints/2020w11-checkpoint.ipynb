{
 "cells": [
  {
   "cell_type": "markdown",
   "metadata": {},
   "source": [
    "# Steps:\n",
    "## output 1\n",
    "#### make the box sizes into a list and pass to a function that has access to the df\n",
    "####      in that df loop through the list and make a column of each size, calulating how many of that box size is needed\n",
    "####      the fuction will also return a remainder column. it will come in handy for output 2\n",
    "\n",
    "## output 2\n",
    "#### melt, create a col of lists, explode it, \n",
    "#### sort df and add a indexing col (pseudo rank)\n",
    "#### get soaps in box col by seeing if box numer is == total boxes. if yes the remainder col, else box size\n",
    "\n"
   ]
  },
  {
   "cell_type": "code",
   "execution_count": 2,
   "metadata": {},
   "outputs": [],
   "source": [
    "# output 1\n",
    "import pandas as pd\n",
    "import numpy as np\n",
    "from pandasgui import show\n",
    "\n",
    "def get_box_sizes(orders_df, sizes_df):\n",
    "\n",
    "    df = orders_df.assign(Remainder=lambda df_x: df_x['Order Size'])\n",
    "    sizes_df.sort(reverse=True)\n",
    "\n",
    "    for i, s in enumerate(sizes_df):\n",
    "        if i < len(sizes_df) -1:\n",
    "            df[f'Boxes of {s}'] = df['Remainder'] // s\n",
    "            df['Remainder'] = df['Remainder'] % s\n",
    "        else:\n",
    "            df[f'Boxes of {s}'] = (np.ceil(df['Remainder'] / s)).astype('int')\n",
    "            df['Remainder'] = (np.ceil(df['Remainder'] / s)).astype('int') * s - df['Remainder']\n",
    "    return df.drop(columns=['Order Size'])\n",
    "\n",
    "with pd.ExcelFile('2020 week 11/PD 2020 Week 11 Input (1).xlsx') as xl:\n",
    "    df_orders = pd.read_excel(xl, sheet_name='Orders')\n",
    "    df_sizes = pd.read_excel(xl, sheet_name='Box Sizes')\n",
    "\n",
    "df_boxes_per_order = pd.concat([df_orders, get_box_sizes(df_orders[['Order Size']], list(df_sizes['Box Size']))], axis=1)"
   ]
  },
  {
   "cell_type": "code",
   "execution_count": 3,
   "metadata": {},
   "outputs": [
    {
     "name": "stderr",
     "output_type": "stream",
     "text": [
      "PandasGUI INFO — pandasgui.gui — Opening PandasGUI\n"
     ]
    },
    {
     "data": {
      "text/plain": [
       "<pandasgui.gui.PandasGui at 0x17ae275a310>"
      ]
     },
     "execution_count": 3,
     "metadata": {},
     "output_type": "execute_result"
    }
   ],
   "source": [
    "# output 2\n",
    "df_soaps_per_box = df_boxes_per_order.melt(id_vars=['Order Number', 'Order Size', 'Remainder'], var_name='Box Size', value_name='Last Box Per Box Size')\\\n",
    "                                    .assign(Box_Number=lambda df_x:[range(1,c+1) for c in df_x['Last Box Per Box Size']],\n",
    "                                            Box_Size=lambda df_x: df_x['Box Size'].str.replace('Boxes of ', '').astype(int))\\\n",
    "                                    .explode('Box_Number')\\\n",
    "                                    .dropna(subset=['Box_Number'])\\\n",
    "                                    .assign(Total_Boxes=lambda df_x: df_x.groupby('Order Number')['Order Number'].transform('count')).drop(columns='Box Size')\n",
    "df_soaps_per_box['Box_Number'] = df_soaps_per_box['Box_Number'].astype('int')\n",
    "df_soaps_per_box = df_soaps_per_box.sort_values(['Box_Size', 'Box_Number'], ascending=(False,True))\n",
    "df_soaps_per_box['Box_Num'] = df_soaps_per_box.groupby('Order Number',sort=False)['Order Number'].transform('cumcount')+1\n",
    "df_soaps_per_box['Soaps in Box'] = np.where(df_soaps_per_box['Box_Num']==df_soaps_per_box['Total_Boxes'],df_soaps_per_box['Box_Size'] - df_soaps_per_box['Remainder'], df_soaps_per_box['Box_Size'])\n",
    "df_soaps_per_box = df_soaps_per_box.rename(columns={'Box_Num':'Box Number', 'Box_Size': 'Box Size'})\n",
    "df_soaps_per_box = df_soaps_per_box[['Order Number', 'Order Size', 'Box Number', 'Box Size', 'Soaps in Box']].sort_values(by=['Order Number', 'Box Number'])\n"
   ]
  }
 ],
 "metadata": {
  "kernelspec": {
   "display_name": "Python 3",
   "language": "python",
   "name": "python3"
  },
  "language_info": {
   "codemirror_mode": {
    "name": "ipython",
    "version": 3
   },
   "file_extension": ".py",
   "mimetype": "text/x-python",
   "name": "python",
   "nbconvert_exporter": "python",
   "pygments_lexer": "ipython3",
   "version": "3.8.4"
  }
 },
 "nbformat": 4,
 "nbformat_minor": 4
}
